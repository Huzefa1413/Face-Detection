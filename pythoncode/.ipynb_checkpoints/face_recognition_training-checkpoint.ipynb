{
 "cells": [
  {
   "cell_type": "code",
   "execution_count": 7,
   "id": "b9b1f5b7",
   "metadata": {},
   "outputs": [],
   "source": [
    "import firebase_admin\n",
    "from firebase_admin import credentials, firestore, storage\n",
    "\n",
    "def initialize_firebase():\n",
    "    if not firebase_admin._apps:\n",
    "        cred = credentials.Certificate(\"path/to/serviceAccountKey.json\")\n",
    "        firebase_admin.initialize_app(cred, {'storageBucket': 'your-project-id.appspot.com'})\n",
    "\n",
    "initialize_firebase()\n",
    "\n",
    "db = firestore.client()\n",
    "bucket = storage.bucket()"
   ]
  },
  {
   "cell_type": "code",
   "execution_count": 38,
   "id": "53b29207",
   "metadata": {},
   "outputs": [
    {
     "name": "stderr",
     "output_type": "stream",
     "text": [
      "D:\\Softwares\\Anaconda\\lib\\site-packages\\google\\cloud\\firestore_v1\\base_collection.py:300: UserWarning: Detected filter using positional arguments. Prefer using the 'filter' keyword argument instead.\n",
      "  return query.where(field_path, op_string, value)\n"
     ]
    }
   ],
   "source": [
    "# !pip install opencv-python-headless numpy matplotlib firebase-admin\n",
    "\n",
    "import numpy as np\n",
    "import cv2\n",
    "# import dlib\n",
    "import firebase_admin\n",
    "from firebase_admin import credentials, firestore, storage\n",
    "from matplotlib import pyplot as plt\n",
    "from sklearn.preprocessing import LabelEncoder\n",
    "from sklearn.svm import SVC\n",
    "import pickle\n",
    "\n",
    "# Initialize Firebase\n",
    "# cred = credentials.Certificate(\"face-detection-102af-firebase-adminsdk-pal10-1711c61527.json\")\n",
    "# firebase_admin.initialize_app(cred, {'storageBucket': 'face-detection-102af.appspot.com'})\n",
    "\n",
    "# db = firestore.client()\n",
    "# bucket = storage.bucket()\n",
    "\n",
    "def fetch_student_images(class_id):\n",
    "    students_ref = db.collection('students').where('classId', '==', class_id).stream()\n",
    "    images = []\n",
    "    labels = []\n",
    "    for student in students_ref:\n",
    "        student_data = student.to_dict()\n",
    "        image_url = student_data.get('imageUrl')\n",
    "        if image_url:\n",
    "            image_name = image_url.split('/')[-1]\n",
    "            image_name = image_name.split('?')[0]\n",
    "            image_name = image_name.split('%2F')[-1]\n",
    "            blob = bucket.blob(f'images/{image_name}')\n",
    "            image_bytes = blob.download_as_bytes()\n",
    "            img_array = np.frombuffer(image_bytes, np.uint8)\n",
    "            img = cv2.imdecode(img_array, cv2.IMREAD_GRAYSCALE)\n",
    "            images.append(img)\n",
    "            labels.append(student.id)  # Assuming 'id' is unique for each student\n",
    "    return images, labels\n",
    "\n",
    "def train_model(images, labels):\n",
    "    # Initialize face detector and recognizer\n",
    "    face_cascade = cv2.CascadeClassifier(cv2.data.haarcascades + 'haarcascade_frontalface_default.xml')\n",
    "    faces = []\n",
    "    face_labels = []\n",
    "    \n",
    "    for img, label in zip(images, labels):\n",
    "        detected_faces = face_cascade.detectMultiScale(img, scaleFactor=1.1, minNeighbors=5, minSize=(30, 30))\n",
    "        for (x, y, w, h) in detected_faces:\n",
    "            face = img[y:y+h, x:x+w]\n",
    "            faces.append(face)\n",
    "            face_labels.append(label)\n",
    "    \n",
    "    if len(faces) == 0:\n",
    "        raise ValueError(\"No faces found for training.\")\n",
    "    \n",
    "    # Flatten images\n",
    "    faces = [cv2.resize(face, (100, 100)).flatten() for face in faces]\n",
    "    \n",
    "    # Encode labels\n",
    "    label_encoder = LabelEncoder()\n",
    "    encoded_labels = label_encoder.fit_transform(face_labels)\n",
    "    \n",
    "    # Train SVM\n",
    "    recognizer = SVC(kernel='linear', probability=True)\n",
    "    recognizer.fit(faces, encoded_labels)\n",
    "    \n",
    "    # Save model and label encoder\n",
    "    with open('face_recognizer.pkl', 'wb') as f:\n",
    "        pickle.dump({'model': recognizer, 'label_encoder': label_encoder}, f)\n",
    "\n",
    "# Example usage\n",
    "class_id = 'iQ7PntEgdK8ApWccqgZC'\n",
    "images, labels = fetch_student_images(class_id)\n",
    "train_model(images, labels)"
   ]
  }
 ],
 "metadata": {
  "kernelspec": {
   "display_name": "Python 3 (ipykernel)",
   "language": "python",
   "name": "python3"
  },
  "language_info": {
   "codemirror_mode": {
    "name": "ipython",
    "version": 3
   },
   "file_extension": ".py",
   "mimetype": "text/x-python",
   "name": "python",
   "nbconvert_exporter": "python",
   "pygments_lexer": "ipython3",
   "version": "3.9.13"
  }
 },
 "nbformat": 4,
 "nbformat_minor": 5
}
